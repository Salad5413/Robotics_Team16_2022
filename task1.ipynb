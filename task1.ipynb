{
 "cells": [
  {
   "cell_type": "code",
   "execution_count": 1,
   "metadata": {},
   "outputs": [
    {
     "name": "stdin",
     "output_type": "stream",
     "text": [
      "q1: 30\n",
      "q2: 43\n",
      "q3: 82\n",
      "q4: 22\n",
      "q5: 40\n"
     ]
    },
    {
     "name": "stdout",
     "output_type": "stream",
     "text": [
      "R0T: [[-0.72631002 -0.07983779 -0.68271494]\n",
      " [-0.41933528  0.83845756  0.34806155]\n",
      " [ 0.54463904  0.53908705 -0.64245893]]\n",
      "P0T: [[0.20452184]\n",
      " [0.11808074]\n",
      " [0.13858183]]\n"
     ]
    }
   ],
   "source": [
    "from cmath import pi\n",
    "import math\n",
    "import numpy as np\n",
    "import warnings\n",
    "import sys\n",
    "def rotatez(theta):\n",
    "    #rotatation around Z-axis\n",
    "    ImatrixRz = np.zeros((3,3))\n",
    "    ImatrixRz[0,0] = math.cos(theta)\n",
    "    ImatrixRz[0,1] = -math.sin(theta)\n",
    "    ImatrixRz[1,1] = math.cos(theta)\n",
    "    ImatrixRz[1,0] = math.sin(theta)\n",
    "    ImatrixRz[2,2] = 1\n",
    "    return  ImatrixRz\n",
    "\n",
    "def rotatey(theta):\n",
    "    #rotatation around Y-axis\n",
    "    ImatrixRy = np.zeros((3,3))\n",
    "    ImatrixRy[0,0] = math.cos(theta)\n",
    "    ImatrixRy[0,2] = math.sin(theta)\n",
    "    ImatrixRy[2,2] = math.cos(theta)\n",
    "    ImatrixRy[2,0] = -math.sin(theta)\n",
    "    ImatrixRy[1,1] = 1\n",
    "    return  ImatrixRy\n",
    "\n",
    "def rotatex(theta):\n",
    "    #rotatation around X-axis\n",
    "    ImatrixRx = np.zeros((3,3))\n",
    "    ImatrixRx[1,1] = math.cos(theta)\n",
    "    ImatrixRx[1,2] = -math.sin(theta)\n",
    "    ImatrixRx[2,2] = math.cos(theta)\n",
    "    ImatrixRx[2,1] = math.sin(theta)\n",
    "    ImatrixRx[0,0] = 1\n",
    "    return  ImatrixRx\n",
    "\n",
    "def rotation(q1,q2,q3,q4,q5):\n",
    "    #Rotation for R0T\n",
    "    Rt = np.matmul(np.matmul(rotatez(q1),rotatey(-q2-q3-q4),),rotatex(-q5))\n",
    "\n",
    "    return Rt\n",
    "\n",
    "def position(q1,q2,q3,q4,q5):\n",
    "    #length of the arms in meters\n",
    "    l0 = 61 / 1000\n",
    "    l1 = 43.5 / 1000\n",
    "    l2 = 82.85 / 1000\n",
    "    l3 = 82.85 / 1000\n",
    "    l4 = 73.85 / 1000\n",
    "    l5 = 54.57 / 1000\n",
    "    # arrays for Pi,i+1\n",
    "    P01 = np.array([[0],[0],[l0+l1]])\n",
    "    P12 = np.array([[0],[0],[0]])\n",
    "    P23 = np.array([[l2],[0],[0]])\n",
    "    P34 = np.array([[0],[0],[-l3]])\n",
    "    P45 = np.array([[0],[0],[0]])\n",
    "    P5T = np.array([[-l4-l5],[0],[0]])\n",
    "    \n",
    "    #put all matrcies into a list, do corss product and use a for loop to add them together\n",
    "    empty = [P01 , np.matmul(rotatez(q1),P12) , np.matmul((np.matmul(rotatez\n",
    "    (q1),rotatey(-q2))),P23) , np.matmul((np.matmul(rotatez\n",
    "    (q1),rotatey(-q2-q3))),P34) , np.matmul((np.matmul(rotatez\n",
    "    (q1),rotatey(-q2-q3-q4))),P45) , np.matmul(np.matmul(np.matmul(rotatez\n",
    "    (q1),rotatey(-q2-q3-q4)),rotatex(-q5)),P5T)]\n",
    "\n",
    "    for i in range(len(empty)-1):\n",
    "        empty[i+1]  = np.add(empty[i],empty[i+1])\n",
    "        Pt = empty[i+1]\n",
    "        \n",
    "    return Pt \n",
    "\n",
    "if __name__ == \"__main__\":\n",
    "    q1 = math.pi / 180 * float(input(\"q1:\"))\n",
    "    q2 = math.pi / 180 * float(input(\"q2:\"))\n",
    "    q3 = math.pi / 180 * float(input(\"q3:\"))\n",
    "    q4 = math.pi / 180 * float(input(\"q4:\"))\n",
    "    q5 = math.pi / 180 * float(input(\"q5:\"))\n",
    "    print(\"R0T:\",rotation(q1,q2,q3,q4,q5))\n",
    "    print(\"P0T:\",position(q1,q2,q3,q4,q5))\n",
    "\n"
   ]
  },
  {
   "cell_type": "code",
   "execution_count": null,
   "metadata": {},
   "outputs": [],
   "source": []
  }
 ],
 "metadata": {
  "kernelspec": {
   "display_name": "Python 3",
   "language": "python",
   "name": "python3"
  },
  "language_info": {
   "codemirror_mode": {
    "name": "ipython",
    "version": 3
   },
   "file_extension": ".py",
   "mimetype": "text/x-python",
   "name": "python",
   "nbconvert_exporter": "python",
   "pygments_lexer": "ipython3",
   "version": "3.6.9"
  }
 },
 "nbformat": 4,
 "nbformat_minor": 4
}
